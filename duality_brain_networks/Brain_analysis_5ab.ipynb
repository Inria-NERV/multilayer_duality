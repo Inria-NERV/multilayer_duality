{
 "cells": [
  {
   "cell_type": "code",
   "execution_count": 1,
   "id": "a589844dc3e36482",
   "metadata": {
    "ExecuteTime": {
     "end_time": "2023-09-15T14:33:38.553501Z",
     "start_time": "2023-09-15T14:33:38.515229Z"
    }
   },
   "outputs": [],
   "source": [
    "\"\"\"Author: Charley Presigny\n",
    "mail: charley.presigny@inria.fr\n",
    "licence: Creative Commons BY 4.0\"\"\"\n",
    "import os\n",
    "import pickle\n",
    "import numpy as np\n",
    "import matplotlib.pyplot as plt\n",
    "from scipy.stats import ranksums"
   ]
  },
  {
   "cell_type": "code",
   "execution_count": 2,
   "id": "furnished-paragraph",
   "metadata": {
    "ExecuteTime": {
     "end_time": "2023-09-15T14:33:52.373727Z",
     "start_time": "2023-09-15T14:33:52.348411Z"
    }
   },
   "outputs": [],
   "source": [
    "## MAIN DATA PATH(to add as prefix everywhere !!!)\n",
    "main_path = \"preprocessing/database/\"\n",
    "restore_path_suj = main_path+\"sym_multistrength_SUJ/\"\n",
    "load_path_avg = main_path+\"sym_multistrength_avgSUJ/sym_average_SUJ.dat_multistrength\"\n",
    "restore_path_pat = main_path+\"sym_multistrength_PAT/\""
   ]
  },
  {
   "cell_type": "markdown",
   "id": "behavioral-merit",
   "metadata": {},
   "source": [
    "## Test of significance for the diff in ROIS and frequencies"
   ]
  },
  {
   "cell_type": "code",
   "execution_count": 3,
   "id": "south-mitchell",
   "metadata": {
    "ExecuteTime": {
     "end_time": "2023-09-15T14:35:18.206349Z",
     "start_time": "2023-09-15T14:35:17.998953Z"
    }
   },
   "outputs": [],
   "source": [
    "##Load the matrices and the related multistrength vectors\n",
    "l_restore_path_suj = os.listdir(restore_path_suj)\n",
    "l_restore_path_pat = os.listdir(restore_path_pat)\n",
    "# Treat the healthy subject here\n",
    "l_multidegree_ROI_suj = [] #the multistrength of a given node for all subjects \n",
    "l_multidegree_DS_ROI_suj = [] #the multistrength of a given layer for all subjects \n",
    "for path_multidegree in l_restore_path_suj:\n",
    "    with open(restore_path_suj+path_multidegree, 'rb') as f: #open file 1\n",
    "        dico = pickle.load(f)\n",
    "    l_multidegree_ROI_suj.append(dico['multistrength'])\n",
    "    l_multidegree_DS_ROI_suj.append(dico['multistrength_DS'])\n",
    "l_multidegree_ROI_suj = np.array(l_multidegree_ROI_suj)\n",
    "l_multidegree_DS_suj = np.array(l_multidegree_DS_ROI_suj)\n",
    "# Treat the patients here\n",
    "l_multidegree_ROI_pat = [] #the multistrength of a given node for all patients\n",
    "l_multidegree_DS_pat = []\n",
    "for path_multidegree in l_restore_path_pat:\n",
    "    with open(restore_path_pat+path_multidegree, 'rb') as f: #open file 1\n",
    "        dico = pickle.load(f)\n",
    "        l_multidegree_ROI_pat.append(dico['multistrength'])\n",
    "        l_multidegree_DS_pat.append(dico['multistrength_DS'])\n",
    "l_multidegree_ROI_pat = np.array(l_multidegree_ROI_pat)\n",
    "l_multidegree_DS_pat = np.array(l_multidegree_DS_pat)"
   ]
  },
  {
   "cell_type": "code",
   "execution_count": 4,
   "id": "selected-anime",
   "metadata": {
    "ExecuteTime": {
     "end_time": "2023-09-15T14:39:15.624126Z",
     "start_time": "2023-09-15T14:39:15.575683Z"
    }
   },
   "outputs": [],
   "source": [
    "# Make the difference between degree of each ROI and frequency to the average healthy subjects's multidegree vectors\n",
    "#Load the multistrength vectors\n",
    "with open(load_path_avg, 'rb') as f: \n",
    "    dico = pickle.load(f)\n",
    "multistrength_1 = dico['multistrength']\n",
    "multistrength_DS_1 = dico['multistrength_DS']\n",
    "\n",
    "for i in range(len(l_multidegree_ROI_pat[0])):\n",
    "    l_multidegree_ROI_suj[:,i] = (l_multidegree_ROI_suj[:,i] - multistrength_1[i])\n",
    "    l_multidegree_ROI_pat[:,i] = (l_multidegree_ROI_pat[:,i] - multistrength_1[i])\n",
    "for i in range(len(l_multidegree_DS_pat[0])):\n",
    "    l_multidegree_DS_pat[:,i] = (l_multidegree_DS_pat[:,i] - multistrength_DS_1[i])\n",
    "    l_multidegree_DS_suj[:,i] = (l_multidegree_DS_suj[:,i] - multistrength_DS_1[i])\n"
   ]
  },
  {
   "cell_type": "code",
   "execution_count": 5,
   "id": "aggressive-memorabilia",
   "metadata": {
    "ExecuteTime": {
     "end_time": "2023-09-15T14:39:17.706190Z",
     "start_time": "2023-09-15T14:39:17.645205Z"
    }
   },
   "outputs": [],
   "source": [
    "threshold = 1.96 # Zscore threshold of statistical significance (Z = 1.96 equiv p=0.05)\n",
    "l_ROI_ranksum_stat = [] #zscore of the ranksum for ROIs\n",
    "l_p_ranksum = [] #pvalue\n",
    "l_ROI_significant = []\n",
    "for i in range(len(l_multidegree_ROI_pat[0])):\n",
    "    res = ranksums(l_multidegree_ROI_pat[:,i],l_multidegree_ROI_suj[:,i])\n",
    "    l_ROI_ranksum_stat.append(res.statistic)\n",
    "    l_p_ranksum.append(res.pvalue)\n",
    "    if abs(l_ROI_ranksum_stat[i]) > threshold:\n",
    "        l_ROI_significant.append(i)"
   ]
  },
  {
   "cell_type": "code",
   "execution_count": 6,
   "id": "played-mediterranean",
   "metadata": {},
   "outputs": [],
   "source": [
    "#Save the zscore of each region in a file for visualization\n",
    "path = main_path+\"ROI_significance.txt\"\n",
    "with open(path, 'w') as f: #open file 1\n",
    "    for values in l_ROI_ranksum_stat:\n",
    "        f.write(str(values)+\"\\n\")\n",
    "    f.close()"
   ]
  },
  {
   "cell_type": "code",
   "execution_count": 7,
   "id": "violent-process",
   "metadata": {
    "ExecuteTime": {
     "end_time": "2023-09-15T14:42:52.865269Z",
     "start_time": "2023-09-15T14:42:52.792747Z"
    }
   },
   "outputs": [],
   "source": [
    "l_freq_ranksum_stat = [] #zscore of the ranksum for frequencies\n",
    "l_p_freq_ranksum = []\n",
    "l_freq_significant = []\n",
    "for i in range(len(l_multidegree_DS_pat[0])):\n",
    "    res = ranksums(l_multidegree_DS_pat[:,i],l_multidegree_DS_suj[:,i])\n",
    "    l_freq_ranksum_stat.append(res.statistic)\n",
    "    l_p_freq_ranksum.append(res.pvalue)\n",
    "    if abs( l_freq_ranksum_stat[i]) > threshold:\n",
    "        l_freq_significant.append(i)"
   ]
  },
  {
   "cell_type": "code",
   "execution_count": 8,
   "id": "invalid-british",
   "metadata": {
    "ExecuteTime": {
     "end_time": "2023-09-15T14:43:37.150799Z",
     "start_time": "2023-09-15T14:43:36.603924Z"
    }
   },
   "outputs": [
    {
     "data": {
      "image/png": "[encoded data removed]",
      "text/plain": [
       "<Figure size 720x360 with 1 Axes>"
      ]
     },
     "metadata": {
      "needs_background": "light"
     },
     "output_type": "display_data"
    }
   ],
   "source": [
    "# Plot of the Zcore in function of \n",
    "l_frequency = [2 +i*0.5 for i in range(len(l_multidegree_DS_suj[0]))]\n",
    "plt.figure(figsize=(10,5))\n",
    "plt.rcParams.update({\"font.size\":22})\n",
    "plt.plot(l_frequency,l_freq_ranksum_stat,color=\"#F8CBAD\",alpha=1,linewidth=3)\n",
    "plt.ylabel(r\"$Z_{score}$\",fontsize=22,labelpad=10)\n",
    "plt.xlabel(\"frequency (Hz)\",fontsize=22)\n",
    "plt.axline([0,0],[40,0],color=\"black\",linestyle='-')\n",
    "plt.axline([0,-1.96],[40,-1.96],color=\"black\",linestyle='-')\n",
    "plt.grid()\n",
    "plt.savefig(main_path+\"frequency_disruption\",transparent=\"True\")\n",
    "plt.show()"
   ]
  },
  {
   "cell_type": "code",
   "execution_count": null,
   "id": "arabic-spotlight",
   "metadata": {},
   "outputs": [],
   "source": []
  }
 ],
 "metadata": {
  "kernelspec": {
   "display_name": "Python 3",
   "language": "python",
   "name": "python3"
  },
  "language_info": {
   "codemirror_mode": {
    "name": "ipython",
    "version": 3
   },
   "file_extension": ".py",
   "mimetype": "text/x-python",
   "name": "python",
   "nbconvert_exporter": "python",
   "pygments_lexer": "ipython3",
   "version": "3.9.0"
  }
 },
 "nbformat": 4,
 "nbformat_minor": 5
}
